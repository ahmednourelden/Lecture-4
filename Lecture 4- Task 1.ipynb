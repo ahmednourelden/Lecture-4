{
 "cells": [
  {
   "cell_type": "code",
   "execution_count": 48,
   "metadata": {},
   "outputs": [
    {
     "name": "stdout",
     "output_type": "stream",
     "text": [
      "hello world\n",
      "hello world\n",
      "hello world\n",
      "hello world\n",
      "hello world\n",
      "\n"
     ]
    }
   ],
   "source": [
    "#1- Open a file, name it 'test.txt' and write 'hello world' for 5 times in it then close it\n",
    "my_file = open('test.txt', 'w+')\n",
    "for x in range (5) :\n",
    "    my_file.writelines('hello world\\n')\n",
    "my_file.seek(0)\n",
    "print(my_file.read())\n",
    "my_file.close()\n",
    "\n",
    "\n",
    "\n"
   ]
  },
  {
   "cell_type": "code",
   "execution_count": 49,
   "metadata": {},
   "outputs": [
    {
     "name": "stdout",
     "output_type": "stream",
     "text": [
      "['HELLO WORLD\\n', 'HELLO WORLD\\n', 'HELLO WORLD\\n', 'HELLO WORLD\\n', 'HELLO WORLD\\n']\n"
     ]
    }
   ],
   "source": [
    "#2- Read the contents of the file, then make content in uppercase then write the result again to the file.\n",
    "\n",
    "my_file = open('test.txt', 'r+')\n",
    "list=my_file.readlines()\n",
    "for a in range (len(list)) :\n",
    "    list[a]=list[a].upper()\n",
    "my_file.seek(0)\n",
    "my_file.writelines(list)\n",
    "my_file.seek(0)\n",
    "print(my_file.readlines())\n",
    "my_file.close()\n",
    "    \n",
    "\n",
    "\n"
   ]
  },
  {
   "cell_type": "code",
   "execution_count": 50,
   "metadata": {},
   "outputs": [
    {
     "name": "stdout",
     "output_type": "stream",
     "text": [
      "['HELLO WORLD\\n', 'HELLO WORLD\\n', 'Hello world\\n', 'HELLO WORLD\\n', 'HELLO WORLD\\n']\n"
     ]
    }
   ],
   "source": [
    "#3- Read the third line of the file then update it to its capital case using capitalize.\n",
    "my_file = open('test.txt', 'r+')\n",
    "list=my_file.readlines()\n",
    "list[2]=list[2].capitalize()\n",
    "my_file.seek(0)\n",
    "my_file.writelines(list)\n",
    "my_file.seek(0)\n",
    "print(my_file.readlines())\n",
    "my_file.close()\n"
   ]
  },
  {
   "cell_type": "code",
   "execution_count": 51,
   "metadata": {},
   "outputs": [
    {
     "name": "stdout",
     "output_type": "stream",
     "text": [
      "['HELLO WORLD\\n', 'HELLO WORLD\\n', 'Hello world\\n', 'HELLO WORLD\\n', 'HELLO WORLD\\n', 'Love python\\n']\n"
     ]
    }
   ],
   "source": [
    "# 4- Using With Statement open this file and append 'I Love python' to it.\n",
    "with open('test.txt', 'a+') as my_file:\n",
    "    my_file.write('Love python\\n')\n",
    "    my_file.seek(0)\n",
    "    print(my_file.readlines())\n",
    "    "
   ]
  },
  {
   "cell_type": "code",
   "execution_count": null,
   "metadata": {},
   "outputs": [],
   "source": []
  },
  {
   "cell_type": "code",
   "execution_count": null,
   "metadata": {},
   "outputs": [],
   "source": []
  }
 ],
 "metadata": {
  "kernelspec": {
   "display_name": "Python 3",
   "language": "python",
   "name": "python3"
  },
  "language_info": {
   "codemirror_mode": {
    "name": "ipython",
    "version": 3
   },
   "file_extension": ".py",
   "mimetype": "text/x-python",
   "name": "python",
   "nbconvert_exporter": "python",
   "pygments_lexer": "ipython3",
   "version": "3.7.6"
  }
 },
 "nbformat": 4,
 "nbformat_minor": 4
}
